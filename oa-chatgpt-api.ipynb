{
 "cells": [
  {
   "cell_type": "code",
   "execution_count": 1,
   "id": "3b377184-eb56-47d2-8bb2-57ffe3da03bc",
   "metadata": {
    "tags": []
   },
   "outputs": [],
   "source": [
    "import os\n",
    "import openai\n",
    "openai.api_key = os.getenv(\"OPENAI_API_KEY\")"
   ]
  },
  {
   "cell_type": "code",
   "execution_count": 5,
   "id": "564e7e98-a99d-4980-9942-1e9e3653d313",
   "metadata": {
    "tags": []
   },
   "outputs": [],
   "source": [
    "response = openai.ChatCompletion.create(\n",
    "                model='gpt-3.5-turbo',\n",
    "    messages=[\n",
    "        {'role':'system','content':'You are a US History Tutor'},\n",
    "        {'role':'user','content':'Who was the first US president?'},\n",
    "        {'role':'assistant','content':'The first US president was George Washington.'},\n",
    "        {'role':'user','content':'What year was he born?'}\n",
    "    ]\n",
    ")"
   ]
  },
  {
   "cell_type": "code",
   "execution_count": 6,
   "id": "7dcc6188-07d0-4516-9ed8-539da364de4e",
   "metadata": {},
   "outputs": [
    {
     "data": {
      "text/plain": [
       "'George Washington was born on February 22, 1732.'"
      ]
     },
     "execution_count": 6,
     "metadata": {},
     "output_type": "execute_result"
    }
   ],
   "source": [
    "response['choices'][0]['message']['content']"
   ]
  },
  {
   "cell_type": "code",
   "execution_count": 13,
   "id": "58a29d05-319b-49c5-9e9f-b6782d03a2f5",
   "metadata": {
    "tags": []
   },
   "outputs": [],
   "source": [
    "class CreateBot:\n",
    "    \n",
    "    \n",
    "    \n",
    "    def __init__(self,system_prompt):\n",
    "        \n",
    "        self.system = system_prompt\n",
    "        self.messages = [{'role':'system','content':system_prompt}]\n",
    "        \n",
    "    def chat(self):\n",
    "        \n",
    "        print('To terminate conversation, type \"END\"')\n",
    "        question = ''\n",
    "        \n",
    "        while question != \"END\":\n",
    "            # USER INPUT\n",
    "            question = input(\"\")\n",
    "            print('\\n')\n",
    "            # add to the messages list of dictionaries\n",
    "            self.messages.append({'role':'user','content':question})\n",
    "            # grab response from GhatGPT\n",
    "            response = openai.ChatCompletion.create(\n",
    "                            model='gpt-3.5-turbo',\n",
    "                            messages=self.messages)\n",
    "            # grab assistant message (content)\n",
    "            content = response['choices'][0]['message']['content']\n",
    "            print('\\n')\n",
    "            print(content)\n",
    "            print('\\n')\n",
    "            self.messages.append({'role':'assistant','content':content})\n",
    "        \n",
    "        # input()"
   ]
  },
  {
   "cell_type": "code",
   "execution_count": 14,
   "id": "13b43213-7305-4535-8b25-8b9b9b07de04",
   "metadata": {
    "tags": []
   },
   "outputs": [],
   "source": [
    "history_tutor = CreateBot(system_prompt='You are a US History Tutor')"
   ]
  },
  {
   "cell_type": "code",
   "execution_count": 15,
   "id": "390aa386-3d42-41e7-b0a7-073c61f84646",
   "metadata": {
    "tags": []
   },
   "outputs": [
    {
     "name": "stdout",
     "output_type": "stream",
     "text": [
      "To terminate conversation, type \"END\"\n"
     ]
    },
    {
     "name": "stdin",
     "output_type": "stream",
     "text": [
      " Who was the first US president?\n"
     ]
    },
    {
     "name": "stdout",
     "output_type": "stream",
     "text": [
      "\n",
      "\n",
      "\n",
      "\n",
      "George Washington was the first president of the United States. He served as president from 1789 to 1797.\n",
      "\n",
      "\n"
     ]
    },
    {
     "name": "stdin",
     "output_type": "stream",
     "text": [
      " Where did he live?\n"
     ]
    },
    {
     "name": "stdout",
     "output_type": "stream",
     "text": [
      "\n",
      "\n",
      "\n",
      "\n",
      "George Washington lived in several places during his life, including Virginia, New York, and Pennsylvania. When he served as president, he lived in the Presidential Mansion in Philadelphia and later in the President's House in Washington, D.C. Today, his most famous residence is likely Mount Vernon, his Virginia plantation home which he lived in for much of his life.\n",
      "\n",
      "\n"
     ]
    },
    {
     "name": "stdin",
     "output_type": "stream",
     "text": [
      " How were his travels to Europe?\n"
     ]
    },
    {
     "name": "stdout",
     "output_type": "stream",
     "text": [
      "\n",
      "\n",
      "\n",
      "\n",
      "George Washington's first and only trip to Europe was in 1751 when he was 19 years old. He went to Barbados with his brother Lawrence in the hope that the tropical climate would improve Lawrence's tuberculosis. During their stay, George contracted smallpox but survived. He also gained a taste for military life when he observed a British fleet arrive on the island to celebrate the capture of Porto Bello in Central America.\n",
      "\n",
      "In 1789, after he was elected the first president of the United States, George Washington wanted to establish good relations with Europe, which was a significant trading partner. Thus, he embarked on a tour of several states, including New England and the southern states, to meet Americans, express his gratitude for the support during the revolution and show himself as the new president.\n",
      "\n",
      "\n"
     ]
    },
    {
     "name": "stdin",
     "output_type": "stream",
     "text": [
      " END\n"
     ]
    },
    {
     "name": "stdout",
     "output_type": "stream",
     "text": [
      "\n",
      "\n",
      "\n",
      "\n",
      "Thank you! If you have any more questions about US History, feel free to ask!\n",
      "\n",
      "\n"
     ]
    }
   ],
   "source": [
    "history_tutor.chat()"
   ]
  },
  {
   "cell_type": "code",
   "execution_count": 17,
   "id": "8393fac3-55d9-40b3-8ee5-e4b513fab975",
   "metadata": {
    "tags": []
   },
   "outputs": [],
   "source": [
    "full_text = ''\n",
    "for item in history_tutor.messages:\n",
    "    full_text += item['content']"
   ]
  },
  {
   "cell_type": "code",
   "execution_count": 18,
   "id": "b8b5df1c-1679-4f52-af2b-aa721c5697db",
   "metadata": {
    "tags": []
   },
   "outputs": [
    {
     "data": {
      "text/plain": [
       "242"
      ]
     },
     "execution_count": 18,
     "metadata": {},
     "output_type": "execute_result"
    }
   ],
   "source": [
    "len(full_text.split())"
   ]
  },
  {
   "cell_type": "code",
   "execution_count": 19,
   "id": "e4247e0f-cb22-463a-ac03-0101ae482703",
   "metadata": {
    "tags": []
   },
   "outputs": [],
   "source": [
    "def num_tokens_from_string(string, encoding_name):\n",
    "    \"\"\"Returns the number of tokens in a text string.\"\"\"\n",
    "    encoding = tiktoken.get_encoding(encoding_name)\n",
    "    num_tokens = len(encoding.encode(string))\n",
    "    return num_tokens"
   ]
  },
  {
   "cell_type": "code",
   "execution_count": 20,
   "id": "4d2e903e-afc9-47dd-af88-bebf0d06764f",
   "metadata": {
    "tags": []
   },
   "outputs": [
    {
     "data": {
      "text/plain": [
       "296"
      ]
     },
     "execution_count": 20,
     "metadata": {},
     "output_type": "execute_result"
    }
   ],
   "source": [
    "import tiktoken\n",
    "num_tokens_from_string(full_text, 'cl100k_base')"
   ]
  },
  {
   "cell_type": "code",
   "execution_count": 21,
   "id": "73f8f92f-5ba4-4ccf-a2ee-ff19613175ba",
   "metadata": {
    "tags": []
   },
   "outputs": [
    {
     "data": {
      "text/plain": [
       "{'role': 'user', 'content': 'Who was the first US president?'}"
      ]
     },
     "execution_count": 21,
     "metadata": {},
     "output_type": "execute_result"
    }
   ],
   "source": [
    "# Don't pop index 0, because that is the system role!\n",
    "history_tutor.messages.pop(1)"
   ]
  },
  {
   "cell_type": "code",
   "execution_count": null,
   "id": "b0f5d2b4-372e-4430-a8bc-588c7d554e6e",
   "metadata": {},
   "outputs": [],
   "source": []
  }
 ],
 "metadata": {
  "kernelspec": {
   "display_name": "Python 3 (ipykernel)",
   "language": "python",
   "name": "python3"
  },
  "language_info": {
   "codemirror_mode": {
    "name": "ipython",
    "version": 3
   },
   "file_extension": ".py",
   "mimetype": "text/x-python",
   "name": "python",
   "nbconvert_exporter": "python",
   "pygments_lexer": "ipython3",
   "version": "3.11.2"
  }
 },
 "nbformat": 4,
 "nbformat_minor": 5
}
